{
 "metadata": {
  "language_info": {
   "codemirror_mode": {
    "name": "ipython",
    "version": 3
   },
   "file_extension": ".py",
   "mimetype": "text/x-python",
   "name": "python",
   "nbconvert_exporter": "python",
   "pygments_lexer": "ipython3",
   "version": "3.9.1-final"
  },
  "orig_nbformat": 2,
  "kernelspec": {
   "name": "python3",
   "display_name": "Python 3.9.1 64-bit",
   "metadata": {
    "interpreter": {
     "hash": "ac13c88555b112dca9c649d6766493f3d3de95122e87812a18e41eacbf32e861"
    }
   }
  }
 },
 "nbformat": 4,
 "nbformat_minor": 2,
 "cells": [
  {
   "cell_type": "code",
   "execution_count": 3,
   "metadata": {},
   "outputs": [
    {
     "output_type": "stream",
     "name": "stdout",
     "text": [
      "4 (7, 3, 0) {'x': 10, 'y': 64}\n"
     ]
    }
   ],
   "source": [
    "def all_aboard(a, *args, **kw): \n",
    "    print(a, args, kw)\n",
    " \n",
    "all_aboard(4, 7, 3, 0, x=10, y=64)"
   ]
  }
 ]
}